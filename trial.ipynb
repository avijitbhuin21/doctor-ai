{
 "cells": [
  {
   "cell_type": "code",
   "execution_count": 1,
   "metadata": {},
   "outputs": [
    {
     "name": "stdout",
     "output_type": "stream",
     "text": [
      "\"Hello Avijit, welcome to our medical facility. I'm Doctor AI, and I'll be assisting you with your diagnosis today. I see that you're experiencing a belly ache and headache. Before we proceed, I'd like to ask, do you have any pre-existing medical conditions, such as allergies, chronic illnesses, or previous surgeries, that we should be aware of while evaluating your current symptoms? This information will help us provide you with the most accurate and effective care possible.\"\n"
     ]
    }
   ],
   "source": [
    "from utils import server\n",
    "\n",
    "llm = server()\n",
    "data = llm.greet(patient_details=\"{'name': 'Avijit bhuin', 'gender': 'male', 'age': '22', 'height': '180', 'weight': '68', 'medical_issue': 'belly ache and headache.'}\")"
   ]
  },
  {
   "cell_type": "code",
   "execution_count": 2,
   "metadata": {},
   "outputs": [
    {
     "name": "stdout",
     "output_type": "stream",
     "text": [
      "\"Hello Avijit, welcome to our medical facility. I'm Doctor AI, and I'll be assisting you with your diagnosis today. I see that you're experiencing a belly ache and headache. Before we proceed, I'd like to ask, do you have any pre-existing medical conditions, such as allergies, chronic illnesses, or previous surgeries, that we should be aware of while evaluating your current symptoms? This information will help us provide you with the most accurate and effective care possible.\"\n"
     ]
    }
   ],
   "source": [
    "print(data)"
   ]
  },
  {
   "cell_type": "code",
   "execution_count": 5,
   "metadata": {},
   "outputs": [
    {
     "name": "stdout",
     "output_type": "stream",
     "text": [
      "Current time: 05:31 AM\n"
     ]
    }
   ],
   "source": [
    "from datetime import datetime\n",
    "\n",
    "current_time = datetime.now().strftime(\"%I:%M %p\")\n",
    "print(\"Current time:\", current_time)\n"
   ]
  },
  {
   "cell_type": "code",
   "execution_count": null,
   "metadata": {},
   "outputs": [],
   "source": []
  }
 ],
 "metadata": {
  "kernelspec": {
   "display_name": "Python 3",
   "language": "python",
   "name": "python3"
  },
  "language_info": {
   "codemirror_mode": {
    "name": "ipython",
    "version": 3
   },
   "file_extension": ".py",
   "mimetype": "text/x-python",
   "name": "python",
   "nbconvert_exporter": "python",
   "pygments_lexer": "ipython3",
   "version": "3.12.1"
  }
 },
 "nbformat": 4,
 "nbformat_minor": 2
}
