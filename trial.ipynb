{
 "cells": [
  {
   "cell_type": "code",
   "execution_count": 1,
   "metadata": {},
   "outputs": [
    {
     "name": "stdout",
     "output_type": "stream",
     "text": [
      "\"Hello Avijit, welcome to our medical facility. I'm Doctor AI, and I'll be assisting you with your diagnosis today. I see that you're experiencing a belly ache and headache. Before we proceed, I'd like to ask, do you have any pre-existing medical conditions, such as allergies, chronic illnesses, or previous surgeries, that we should be aware of while evaluating your current symptoms? This information will help us provide you with the most accurate and effective care possible.\"\n"
     ]
    }
   ],
   "source": [
    "from utils import server\n",
    "\n",
    "llm = server()\n",
    "data = llm.greet(patient_details=\"{'name': 'Avijit bhuin', 'gender': 'male', 'age': '22', 'height': '180', 'weight': '68', 'medical_issue': 'belly ache and headache.'}\")"
   ]
  },
  {
   "cell_type": "code",
   "execution_count": 2,
   "metadata": {},
   "outputs": [
    {
     "name": "stdout",
     "output_type": "stream",
     "text": [
      "\"Hello Avijit, welcome to our medical facility. I'm Doctor AI, and I'll be assisting you with your diagnosis today. I see that you're experiencing a belly ache and headache. Before we proceed, I'd like to ask, do you have any pre-existing medical conditions, such as allergies, chronic illnesses, or previous surgeries, that we should be aware of while evaluating your current symptoms? This information will help us provide you with the most accurate and effective care possible.\"\n"
     ]
    }
   ],
   "source": [
    "print(data)"
   ]
  },
  {
   "cell_type": "code",
   "execution_count": 11,
   "metadata": {},
   "outputs": [
    {
     "data": {
      "text/plain": [
       "[{'title': 'Typhoid Fever: Causes, Symptoms & Treatment',\n",
       "  'description': 'Featured snippet from the webमराठी मध्येथांबवाIn EnglishPauseYour healthcare provider will treat typhoid fever with antibiotics, which may include:Ciprofloxacin, levoflaxin or ofloxacin.Ceftriaxone, cefotaxime or cefixime.Azithromycin.Typhoid Fever: Causes, Symptoms & TreatmentCleveland Clinichttps://my.clevelandclinic.org› health › diseases › 177...Cleveland Clinichttps://my.clevelandclinic.org› health › diseases › 177...About featured snippets•Feedback',\n",
       "  'url': 'https://my.clevelandclinic.org/health/diseases/17730-typhoid-fever#:~:text=Your%20healthcare%20provider%20will%20treat,Azithromycin.'},\n",
       " {'title': 'Typhoid fever - Diagnosis & treatment',\n",
       "  'description': '28 Jan 2023—Antibiotic therapy is the only effective treatment for typhoid fever. Commonly prescribed antibiotics. The medicine you get totreat typhoid...',\n",
       "  'url': 'https://www.mayoclinic.org/diseases-conditions/typhoid-fever/diagnosis-treatment/drc-20378665'},\n",
       " {'title': 'Typhoid: Symptoms, treatment, causes, and prevention',\n",
       "  'description': 'The only effective treatment fortyphoidis antibiotics. Doctors most commonly use ciprofloxacin (Cipro) for nonpregnant people. Other antibiotics a doctor may\\xa0...',\n",
       "  'url': 'https://www.medicalnewstoday.com/articles/156859'},\n",
       " {'title': 'Treatment - - - Typhoid fever',\n",
       "  'description': \"Typhoidfever can usually be successfully treated with antibiotics. It can often be treated at home, but you may need to go to hospital if it's severe.\",\n",
       "  'url': 'https://www.nhs.uk/conditions/typhoid-fever/treatment/'},\n",
       " {'title': 'Treating Typhoid Fever and Paratyphoid Fever',\n",
       "  'description': '26 Apr 2024—Antibioticstreat typhoidfever and paratyphoid fever. Antibiotics can help you recover faster. They also can help lower the risk of complications and death.',\n",
       "  'url': 'https://www.cdc.gov/typhoid-fever/treatment/index.html'}]"
      ]
     },
     "execution_count": 11,
     "metadata": {},
     "output_type": "execute_result"
    }
   ],
   "source": [
    "from utils import Search_Tool\n",
    "\n",
    "search = Search_Tool()\n",
    "\n",
    "urls = search.search('medication for typhoid', 5)\n",
    "urls\n"
   ]
  },
  {
   "cell_type": "code",
   "execution_count": 12,
   "metadata": {},
   "outputs": [
    {
     "data": {
      "text/plain": [
       "{'title': 'Typhoid fever - Diagnosis & treatment',\n",
       " 'description': '28 Jan 2023—Antibiotic therapy is the only effective treatment for typhoid fever. Commonly prescribed antibiotics. The medicine you get totreat typhoid...',\n",
       " 'url': 'https://www.mayoclinic.org/diseases-conditions/typhoid-fever/diagnosis-treatment/drc-20378665'}"
      ]
     },
     "execution_count": 12,
     "metadata": {},
     "output_type": "execute_result"
    }
   ],
   "source": [
    "urls[1]"
   ]
  },
  {
   "cell_type": "code",
   "execution_count": 13,
   "metadata": {},
   "outputs": [
    {
     "data": {
      "text/plain": [
       "[{'h': 'Diagnosis',\n",
       "  'p': \"Your health care provider may suspect typhoid fever based on your symptoms, and your medical and travel history. The diagnosis is often confirmed by growing the Salmonella enterica serotype typhi in a sample of your body fluid or tissue. A sample of your blood, stool, urine or bone marrow is used. The sample is placed in an environment where bacteria grow easily. The growth, called a culture, is checked under a microscope for the typhoid bacteria. A bone marrow culture often is the most sensitive test for Salmonella typhi. A culture test is the most common diagnostic test. But other testing may be used to confirm typhoid fever. One is a test to detect antibodies to typhoid bacteria in your blood. Another test checks for typhoid DNA in your blood. Antibiotic therapy is the only effective treatment for typhoid fever. The medicine you get to treat typhoid fever may depend on where you picked up the bacteria. Strains picked up in different places respond better or worse to certain antibiotics. These medicines may be used alone or together. Antibiotics that may be given for typhoid fever are: Other treatments include: Call your health care provider if you have symptoms of typhoid fever. This is especially important if you or a close companion recently traveled to a place that has a high risk of typhoid fever. If your symptoms are severe, go to an emergency room or call 911 or your local emergency number. Here's some information to help you get ready and know what to expect from your health care provider. For typhoid fever, possible questions to ask your provider include: Don't hesitate to ask any other related questions you have. Your provider is likely to ask you a number of questions. Being ready to answer them may reserve time to go over any points you want to talk about in-depth. Your provider may ask: Jan 28, 2023 CON-XXXXXXXX Mayo Clinic does not endorse companies or products. Advertising revenue supports our not-for-profit mission. Check out these best-sellers and special offers on books and newsletters from\\xa0Mayo Clinic Press. Make your tax-deductible gift and be a part of the cutting-edge research and care that's changing medicine. © 1998-2024 Mayo Foundation for Medical Education and Research (MFMER). All rights reserved.\",\n",
       "  'ul': \"Fluoroquinolones. These antibiotics, including ciprofloxacin (Cipro), may be a first choice. They stop bacteria from copying themselves. But some strains of bacteria can live through treatment. These bacteria are called antibiotic resistant., Cephalosporins. This group of antibiotics keeps bacteria from building cell walls. One kind, ceftriaxone, is used if there is antibiotic resistance., Macrolides. This group of antibiotics keeps bacteria from making proteins. One kind called azithromycin (Zithromax) can be used if there is antibiotic resistance., Carbapenems. These antibiotics also prevent bacteria from building cell walls. But they focus on a different stage of that process than the cephalosporins. Antibiotics in this category may be used with severe disease that doesn't respond to other antibiotics., Drinking fluids. This helps prevent the dehydration caused by a long fever and diarrhea. If you're very dehydrated, you may need to receive fluids through a vein., Surgery. If the intestines are damaged, you may need surgery to repair them., Pre-appointment restrictions. At the time you make your appointment, ask if there are restrictions you need to follow in the time leading up to your visit. Your health care provider will not be able to confirm typhoid fever without a blood test. The provider may suggest actions you can take to lower the risk that you'll spread the bacteria to someone else., Symptom history. Write down any symptoms you're experiencing and for how long., Recent exposure to possible sources of infection. Be prepared to describe international trips in detail, including the countries you visited and the dates you traveled., Medical history. Make a list of your key medical information, including other conditions for which you're being treated and any medications, vitamins or supplements you're taking. Your provider also will need to know your vaccination history., Questions to ask your health care provider. Write down your questions in advance so that you can make the most of your time with your provider., What are the possible causes for my symptoms?, What kinds of tests do I need?, Are treatments available to help me recover?, I have other health problems. How can I best manage these conditions together?, How long do you expect a full recovery will take?, When can I return to work or school?, Am I at risk of any long-term complications from typhoid fever?, What are your symptoms and when did they begin?, Have your symptoms gotten better or worse?, Did your symptoms briefly get better and then come back?, Have you recently traveled abroad? Where?, Did you update your vaccinations before traveling?, Are you being treated for any other medical conditions?, Are you currently taking any medications?, A Book: Mayo Clinic Family Health Book, Newsletter: Mayo Clinic Health Letter — Digital Edition, Policy, Opportunities, Ad Choices, Mayo Clinic on Incontinence, The Essential Diabetes Book, Mayo Clinic on Hearing and Balance, FREE Mayo Clinic Diet Assessment, Mayo Clinic Health Letter - FREE book, Find a doctor, Explore careers, Sign up for free e-newsletters, About this Site, Contact Us, Locations, Health Information Policy, Medicare Accountable Care Organization (ACO), Media Requests, News Network, Price Transparency, AskMayoExpert, Clinical Trials, Mayo Clinic Alumni Association, Refer a Patient, Executive Health Program, International Business Collaborations, Facilities & Real Estate, Supplier Information, AskMayoExpert, Clinical Trials, Mayo Clinic Alumni Association, Refer a Patient, Executive Health Program, International Business Collaborations, Facilities & Real Estate, Supplier Information, Admissions Requirements, Degree Programs, Student & Faculty Portal, Degree Programs, Admissions Requirements, Student & Faculty Portal, Research Faculty, Laboratories, Appointments, Financial Services, International Locations & Offices, Financial Assistance Documents – Arizona, Financial Assistance Documents – Florida, Financial Assistance Documents – Minnesota, X, Youtube, Facebook, Linkedin, Instagram, , , Terms & Conditions, Privacy Policy, Notice of Privacy Practices, Notice of Nondiscrimination, Accessibility Statement, Advertising & Sponsorship Policy, Site Map, Manage Cookies, Terms and Conditions, Privacy Policy, Notice of Privacy Practices, Notice of Nondiscrimination, Accessibility Statement, Advertising and Sponsorship Policy, Site Map, Manage Cookies, English, Español, العربية, 简体中文, English, Español, العربية, 简体中文\"},\n",
       " {'h': 'Medical and travel history',\n",
       "  'p': \"Your health care provider may suspect typhoid fever based on your symptoms, and your medical and travel history. The diagnosis is often confirmed by growing the Salmonella enterica serotype typhi in a sample of your body fluid or tissue. A sample of your blood, stool, urine or bone marrow is used. The sample is placed in an environment where bacteria grow easily. The growth, called a culture, is checked under a microscope for the typhoid bacteria. A bone marrow culture often is the most sensitive test for Salmonella typhi. A culture test is the most common diagnostic test. But other testing may be used to confirm typhoid fever. One is a test to detect antibodies to typhoid bacteria in your blood. Another test checks for typhoid DNA in your blood. Antibiotic therapy is the only effective treatment for typhoid fever. The medicine you get to treat typhoid fever may depend on where you picked up the bacteria. Strains picked up in different places respond better or worse to certain antibiotics. These medicines may be used alone or together. Antibiotics that may be given for typhoid fever are: Other treatments include: Call your health care provider if you have symptoms of typhoid fever. This is especially important if you or a close companion recently traveled to a place that has a high risk of typhoid fever. If your symptoms are severe, go to an emergency room or call 911 or your local emergency number. Here's some information to help you get ready and know what to expect from your health care provider. For typhoid fever, possible questions to ask your provider include: Don't hesitate to ask any other related questions you have. Your provider is likely to ask you a number of questions. Being ready to answer them may reserve time to go over any points you want to talk about in-depth. Your provider may ask: Jan 28, 2023 CON-XXXXXXXX Mayo Clinic does not endorse companies or products. Advertising revenue supports our not-for-profit mission. Check out these best-sellers and special offers on books and newsletters from\\xa0Mayo Clinic Press. Make your tax-deductible gift and be a part of the cutting-edge research and care that's changing medicine. © 1998-2024 Mayo Foundation for Medical Education and Research (MFMER). All rights reserved.\",\n",
       "  'ul': \"Fluoroquinolones. These antibiotics, including ciprofloxacin (Cipro), may be a first choice. They stop bacteria from copying themselves. But some strains of bacteria can live through treatment. These bacteria are called antibiotic resistant., Cephalosporins. This group of antibiotics keeps bacteria from building cell walls. One kind, ceftriaxone, is used if there is antibiotic resistance., Macrolides. This group of antibiotics keeps bacteria from making proteins. One kind called azithromycin (Zithromax) can be used if there is antibiotic resistance., Carbapenems. These antibiotics also prevent bacteria from building cell walls. But they focus on a different stage of that process than the cephalosporins. Antibiotics in this category may be used with severe disease that doesn't respond to other antibiotics., Drinking fluids. This helps prevent the dehydration caused by a long fever and diarrhea. If you're very dehydrated, you may need to receive fluids through a vein., Surgery. If the intestines are damaged, you may need surgery to repair them., Pre-appointment restrictions. At the time you make your appointment, ask if there are restrictions you need to follow in the time leading up to your visit. Your health care provider will not be able to confirm typhoid fever without a blood test. The provider may suggest actions you can take to lower the risk that you'll spread the bacteria to someone else., Symptom history. Write down any symptoms you're experiencing and for how long., Recent exposure to possible sources of infection. Be prepared to describe international trips in detail, including the countries you visited and the dates you traveled., Medical history. Make a list of your key medical information, including other conditions for which you're being treated and any medications, vitamins or supplements you're taking. Your provider also will need to know your vaccination history., Questions to ask your health care provider. Write down your questions in advance so that you can make the most of your time with your provider., What are the possible causes for my symptoms?, What kinds of tests do I need?, Are treatments available to help me recover?, I have other health problems. How can I best manage these conditions together?, How long do you expect a full recovery will take?, When can I return to work or school?, Am I at risk of any long-term complications from typhoid fever?, What are your symptoms and when did they begin?, Have your symptoms gotten better or worse?, Did your symptoms briefly get better and then come back?, Have you recently traveled abroad? Where?, Did you update your vaccinations before traveling?, Are you being treated for any other medical conditions?, Are you currently taking any medications?, A Book: Mayo Clinic Family Health Book, Newsletter: Mayo Clinic Health Letter — Digital Edition, Policy, Opportunities, Ad Choices, Mayo Clinic on Incontinence, The Essential Diabetes Book, Mayo Clinic on Hearing and Balance, FREE Mayo Clinic Diet Assessment, Mayo Clinic Health Letter - FREE book, Find a doctor, Explore careers, Sign up for free e-newsletters, About this Site, Contact Us, Locations, Health Information Policy, Medicare Accountable Care Organization (ACO), Media Requests, News Network, Price Transparency, AskMayoExpert, Clinical Trials, Mayo Clinic Alumni Association, Refer a Patient, Executive Health Program, International Business Collaborations, Facilities & Real Estate, Supplier Information, AskMayoExpert, Clinical Trials, Mayo Clinic Alumni Association, Refer a Patient, Executive Health Program, International Business Collaborations, Facilities & Real Estate, Supplier Information, Admissions Requirements, Degree Programs, Student & Faculty Portal, Degree Programs, Admissions Requirements, Student & Faculty Portal, Research Faculty, Laboratories, Appointments, Financial Services, International Locations & Offices, Financial Assistance Documents – Arizona, Financial Assistance Documents – Florida, Financial Assistance Documents – Minnesota, X, Youtube, Facebook, Linkedin, Instagram, , , Terms & Conditions, Privacy Policy, Notice of Privacy Practices, Notice of Nondiscrimination, Accessibility Statement, Advertising & Sponsorship Policy, Site Map, Manage Cookies, Terms and Conditions, Privacy Policy, Notice of Privacy Practices, Notice of Nondiscrimination, Accessibility Statement, Advertising and Sponsorship Policy, Site Map, Manage Cookies, English, Español, العربية, 简体中文, English, Español, العربية, 简体中文\"},\n",
       " {'h': 'Treatment',\n",
       "  'p': \"Antibiotic therapy is the only effective treatment for typhoid fever. The medicine you get to treat typhoid fever may depend on where you picked up the bacteria. Strains picked up in different places respond better or worse to certain antibiotics. These medicines may be used alone or together. Antibiotics that may be given for typhoid fever are: Other treatments include: Call your health care provider if you have symptoms of typhoid fever. This is especially important if you or a close companion recently traveled to a place that has a high risk of typhoid fever. If your symptoms are severe, go to an emergency room or call 911 or your local emergency number. Here's some information to help you get ready and know what to expect from your health care provider. For typhoid fever, possible questions to ask your provider include: Don't hesitate to ask any other related questions you have. Your provider is likely to ask you a number of questions. Being ready to answer them may reserve time to go over any points you want to talk about in-depth. Your provider may ask: Jan 28, 2023 CON-XXXXXXXX Mayo Clinic does not endorse companies or products. Advertising revenue supports our not-for-profit mission. Check out these best-sellers and special offers on books and newsletters from\\xa0Mayo Clinic Press. Make your tax-deductible gift and be a part of the cutting-edge research and care that's changing medicine. © 1998-2024 Mayo Foundation for Medical Education and Research (MFMER). All rights reserved.\",\n",
       "  'ul': \"Fluoroquinolones. These antibiotics, including ciprofloxacin (Cipro), may be a first choice. They stop bacteria from copying themselves. But some strains of bacteria can live through treatment. These bacteria are called antibiotic resistant., Cephalosporins. This group of antibiotics keeps bacteria from building cell walls. One kind, ceftriaxone, is used if there is antibiotic resistance., Macrolides. This group of antibiotics keeps bacteria from making proteins. One kind called azithromycin (Zithromax) can be used if there is antibiotic resistance., Carbapenems. These antibiotics also prevent bacteria from building cell walls. But they focus on a different stage of that process than the cephalosporins. Antibiotics in this category may be used with severe disease that doesn't respond to other antibiotics., Drinking fluids. This helps prevent the dehydration caused by a long fever and diarrhea. If you're very dehydrated, you may need to receive fluids through a vein., Surgery. If the intestines are damaged, you may need surgery to repair them., Pre-appointment restrictions. At the time you make your appointment, ask if there are restrictions you need to follow in the time leading up to your visit. Your health care provider will not be able to confirm typhoid fever without a blood test. The provider may suggest actions you can take to lower the risk that you'll spread the bacteria to someone else., Symptom history. Write down any symptoms you're experiencing and for how long., Recent exposure to possible sources of infection. Be prepared to describe international trips in detail, including the countries you visited and the dates you traveled., Medical history. Make a list of your key medical information, including other conditions for which you're being treated and any medications, vitamins or supplements you're taking. Your provider also will need to know your vaccination history., Questions to ask your health care provider. Write down your questions in advance so that you can make the most of your time with your provider., What are the possible causes for my symptoms?, What kinds of tests do I need?, Are treatments available to help me recover?, I have other health problems. How can I best manage these conditions together?, How long do you expect a full recovery will take?, When can I return to work or school?, Am I at risk of any long-term complications from typhoid fever?, What are your symptoms and when did they begin?, Have your symptoms gotten better or worse?, Did your symptoms briefly get better and then come back?, Have you recently traveled abroad? Where?, Did you update your vaccinations before traveling?, Are you being treated for any other medical conditions?, Are you currently taking any medications?, A Book: Mayo Clinic Family Health Book, Newsletter: Mayo Clinic Health Letter — Digital Edition, Policy, Opportunities, Ad Choices, Mayo Clinic on Incontinence, The Essential Diabetes Book, Mayo Clinic on Hearing and Balance, FREE Mayo Clinic Diet Assessment, Mayo Clinic Health Letter - FREE book, Find a doctor, Explore careers, Sign up for free e-newsletters, About this Site, Contact Us, Locations, Health Information Policy, Medicare Accountable Care Organization (ACO), Media Requests, News Network, Price Transparency, AskMayoExpert, Clinical Trials, Mayo Clinic Alumni Association, Refer a Patient, Executive Health Program, International Business Collaborations, Facilities & Real Estate, Supplier Information, AskMayoExpert, Clinical Trials, Mayo Clinic Alumni Association, Refer a Patient, Executive Health Program, International Business Collaborations, Facilities & Real Estate, Supplier Information, Admissions Requirements, Degree Programs, Student & Faculty Portal, Degree Programs, Admissions Requirements, Student & Faculty Portal, Research Faculty, Laboratories, Appointments, Financial Services, International Locations & Offices, Financial Assistance Documents – Arizona, Financial Assistance Documents – Florida, Financial Assistance Documents – Minnesota, X, Youtube, Facebook, Linkedin, Instagram, , , Terms & Conditions, Privacy Policy, Notice of Privacy Practices, Notice of Nondiscrimination, Accessibility Statement, Advertising & Sponsorship Policy, Site Map, Manage Cookies, Terms and Conditions, Privacy Policy, Notice of Privacy Practices, Notice of Nondiscrimination, Accessibility Statement, Advertising and Sponsorship Policy, Site Map, Manage Cookies, English, Español, العربية, 简体中文, English, Español, العربية, 简体中文\"},\n",
       " {'h': 'Commonly prescribed antibiotics',\n",
       "  'p': \"The medicine you get to treat typhoid fever may depend on where you picked up the bacteria. Strains picked up in different places respond better or worse to certain antibiotics. These medicines may be used alone or together. Antibiotics that may be given for typhoid fever are: Other treatments include: Call your health care provider if you have symptoms of typhoid fever. This is especially important if you or a close companion recently traveled to a place that has a high risk of typhoid fever. If your symptoms are severe, go to an emergency room or call 911 or your local emergency number. Here's some information to help you get ready and know what to expect from your health care provider. For typhoid fever, possible questions to ask your provider include: Don't hesitate to ask any other related questions you have. Your provider is likely to ask you a number of questions. Being ready to answer them may reserve time to go over any points you want to talk about in-depth. Your provider may ask: Jan 28, 2023 CON-XXXXXXXX Mayo Clinic does not endorse companies or products. Advertising revenue supports our not-for-profit mission. Check out these best-sellers and special offers on books and newsletters from\\xa0Mayo Clinic Press. Make your tax-deductible gift and be a part of the cutting-edge research and care that's changing medicine. © 1998-2024 Mayo Foundation for Medical Education and Research (MFMER). All rights reserved.\",\n",
       "  'ul': \"Fluoroquinolones. These antibiotics, including ciprofloxacin (Cipro), may be a first choice. They stop bacteria from copying themselves. But some strains of bacteria can live through treatment. These bacteria are called antibiotic resistant., Cephalosporins. This group of antibiotics keeps bacteria from building cell walls. One kind, ceftriaxone, is used if there is antibiotic resistance., Macrolides. This group of antibiotics keeps bacteria from making proteins. One kind called azithromycin (Zithromax) can be used if there is antibiotic resistance., Carbapenems. These antibiotics also prevent bacteria from building cell walls. But they focus on a different stage of that process than the cephalosporins. Antibiotics in this category may be used with severe disease that doesn't respond to other antibiotics., Drinking fluids. This helps prevent the dehydration caused by a long fever and diarrhea. If you're very dehydrated, you may need to receive fluids through a vein., Surgery. If the intestines are damaged, you may need surgery to repair them., Pre-appointment restrictions. At the time you make your appointment, ask if there are restrictions you need to follow in the time leading up to your visit. Your health care provider will not be able to confirm typhoid fever without a blood test. The provider may suggest actions you can take to lower the risk that you'll spread the bacteria to someone else., Symptom history. Write down any symptoms you're experiencing and for how long., Recent exposure to possible sources of infection. Be prepared to describe international trips in detail, including the countries you visited and the dates you traveled., Medical history. Make a list of your key medical information, including other conditions for which you're being treated and any medications, vitamins or supplements you're taking. Your provider also will need to know your vaccination history., Questions to ask your health care provider. Write down your questions in advance so that you can make the most of your time with your provider., What are the possible causes for my symptoms?, What kinds of tests do I need?, Are treatments available to help me recover?, I have other health problems. How can I best manage these conditions together?, How long do you expect a full recovery will take?, When can I return to work or school?, Am I at risk of any long-term complications from typhoid fever?, What are your symptoms and when did they begin?, Have your symptoms gotten better or worse?, Did your symptoms briefly get better and then come back?, Have you recently traveled abroad? Where?, Did you update your vaccinations before traveling?, Are you being treated for any other medical conditions?, Are you currently taking any medications?, A Book: Mayo Clinic Family Health Book, Newsletter: Mayo Clinic Health Letter — Digital Edition, Policy, Opportunities, Ad Choices, Mayo Clinic on Incontinence, The Essential Diabetes Book, Mayo Clinic on Hearing and Balance, FREE Mayo Clinic Diet Assessment, Mayo Clinic Health Letter - FREE book, Find a doctor, Explore careers, Sign up for free e-newsletters, About this Site, Contact Us, Locations, Health Information Policy, Medicare Accountable Care Organization (ACO), Media Requests, News Network, Price Transparency, AskMayoExpert, Clinical Trials, Mayo Clinic Alumni Association, Refer a Patient, Executive Health Program, International Business Collaborations, Facilities & Real Estate, Supplier Information, AskMayoExpert, Clinical Trials, Mayo Clinic Alumni Association, Refer a Patient, Executive Health Program, International Business Collaborations, Facilities & Real Estate, Supplier Information, Admissions Requirements, Degree Programs, Student & Faculty Portal, Degree Programs, Admissions Requirements, Student & Faculty Portal, Research Faculty, Laboratories, Appointments, Financial Services, International Locations & Offices, Financial Assistance Documents – Arizona, Financial Assistance Documents – Florida, Financial Assistance Documents – Minnesota, X, Youtube, Facebook, Linkedin, Instagram, , , Terms & Conditions, Privacy Policy, Notice of Privacy Practices, Notice of Nondiscrimination, Accessibility Statement, Advertising & Sponsorship Policy, Site Map, Manage Cookies, Terms and Conditions, Privacy Policy, Notice of Privacy Practices, Notice of Nondiscrimination, Accessibility Statement, Advertising and Sponsorship Policy, Site Map, Manage Cookies, English, Español, العربية, 简体中文, English, Español, العربية, 简体中文\"},\n",
       " {'h': 'Other treatments',\n",
       "  'p': \"Other treatments include: Call your health care provider if you have symptoms of typhoid fever. This is especially important if you or a close companion recently traveled to a place that has a high risk of typhoid fever. If your symptoms are severe, go to an emergency room or call 911 or your local emergency number. Here's some information to help you get ready and know what to expect from your health care provider. For typhoid fever, possible questions to ask your provider include: Don't hesitate to ask any other related questions you have. Your provider is likely to ask you a number of questions. Being ready to answer them may reserve time to go over any points you want to talk about in-depth. Your provider may ask: Jan 28, 2023 CON-XXXXXXXX Mayo Clinic does not endorse companies or products. Advertising revenue supports our not-for-profit mission. Check out these best-sellers and special offers on books and newsletters from\\xa0Mayo Clinic Press. Make your tax-deductible gift and be a part of the cutting-edge research and care that's changing medicine. © 1998-2024 Mayo Foundation for Medical Education and Research (MFMER). All rights reserved.\",\n",
       "  'ul': \"Drinking fluids. This helps prevent the dehydration caused by a long fever and diarrhea. If you're very dehydrated, you may need to receive fluids through a vein., Surgery. If the intestines are damaged, you may need surgery to repair them., Pre-appointment restrictions. At the time you make your appointment, ask if there are restrictions you need to follow in the time leading up to your visit. Your health care provider will not be able to confirm typhoid fever without a blood test. The provider may suggest actions you can take to lower the risk that you'll spread the bacteria to someone else., Symptom history. Write down any symptoms you're experiencing and for how long., Recent exposure to possible sources of infection. Be prepared to describe international trips in detail, including the countries you visited and the dates you traveled., Medical history. Make a list of your key medical information, including other conditions for which you're being treated and any medications, vitamins or supplements you're taking. Your provider also will need to know your vaccination history., Questions to ask your health care provider. Write down your questions in advance so that you can make the most of your time with your provider., What are the possible causes for my symptoms?, What kinds of tests do I need?, Are treatments available to help me recover?, I have other health problems. How can I best manage these conditions together?, How long do you expect a full recovery will take?, When can I return to work or school?, Am I at risk of any long-term complications from typhoid fever?, What are your symptoms and when did they begin?, Have your symptoms gotten better or worse?, Did your symptoms briefly get better and then come back?, Have you recently traveled abroad? Where?, Did you update your vaccinations before traveling?, Are you being treated for any other medical conditions?, Are you currently taking any medications?, A Book: Mayo Clinic Family Health Book, Newsletter: Mayo Clinic Health Letter — Digital Edition, Policy, Opportunities, Ad Choices, Mayo Clinic on Incontinence, The Essential Diabetes Book, Mayo Clinic on Hearing and Balance, FREE Mayo Clinic Diet Assessment, Mayo Clinic Health Letter - FREE book, Find a doctor, Explore careers, Sign up for free e-newsletters, About this Site, Contact Us, Locations, Health Information Policy, Medicare Accountable Care Organization (ACO), Media Requests, News Network, Price Transparency, AskMayoExpert, Clinical Trials, Mayo Clinic Alumni Association, Refer a Patient, Executive Health Program, International Business Collaborations, Facilities & Real Estate, Supplier Information, AskMayoExpert, Clinical Trials, Mayo Clinic Alumni Association, Refer a Patient, Executive Health Program, International Business Collaborations, Facilities & Real Estate, Supplier Information, Admissions Requirements, Degree Programs, Student & Faculty Portal, Degree Programs, Admissions Requirements, Student & Faculty Portal, Research Faculty, Laboratories, Appointments, Financial Services, International Locations & Offices, Financial Assistance Documents – Arizona, Financial Assistance Documents – Florida, Financial Assistance Documents – Minnesota, X, Youtube, Facebook, Linkedin, Instagram, , , Terms & Conditions, Privacy Policy, Notice of Privacy Practices, Notice of Nondiscrimination, Accessibility Statement, Advertising & Sponsorship Policy, Site Map, Manage Cookies, Terms and Conditions, Privacy Policy, Notice of Privacy Practices, Notice of Nondiscrimination, Accessibility Statement, Advertising and Sponsorship Policy, Site Map, Manage Cookies, English, Español, العربية, 简体中文, English, Español, العربية, 简体中文\"},\n",
       " {'h': 'Medical Professionals',\n",
       "  'p': '© 1998-2024 Mayo Foundation for Medical Education and Research (MFMER). All rights reserved.',\n",
       "  'ul': 'AskMayoExpert, Clinical Trials, Mayo Clinic Alumni Association, Refer a Patient, Executive Health Program, International Business Collaborations, Facilities & Real Estate, Supplier Information, AskMayoExpert, Clinical Trials, Mayo Clinic Alumni Association, Refer a Patient, Executive Health Program, International Business Collaborations, Facilities & Real Estate, Supplier Information, Admissions Requirements, Degree Programs, Student & Faculty Portal, Degree Programs, Admissions Requirements, Student & Faculty Portal, Research Faculty, Laboratories, Appointments, Financial Services, International Locations & Offices, Financial Assistance Documents – Arizona, Financial Assistance Documents – Florida, Financial Assistance Documents – Minnesota, X, Youtube, Facebook, Linkedin, Instagram, , , Terms & Conditions, Privacy Policy, Notice of Privacy Practices, Notice of Nondiscrimination, Accessibility Statement, Advertising & Sponsorship Policy, Site Map, Manage Cookies, Terms and Conditions, Privacy Policy, Notice of Privacy Practices, Notice of Nondiscrimination, Accessibility Statement, Advertising and Sponsorship Policy, Site Map, Manage Cookies, English, Español, العربية, 简体中文, English, Español, العربية, 简体中文'},\n",
       " {'h': 'Medical Professionals',\n",
       "  'p': '© 1998-2024 Mayo Foundation for Medical Education and Research (MFMER). All rights reserved.',\n",
       "  'ul': 'AskMayoExpert, Clinical Trials, Mayo Clinic Alumni Association, Refer a Patient, Executive Health Program, International Business Collaborations, Facilities & Real Estate, Supplier Information, Admissions Requirements, Degree Programs, Student & Faculty Portal, Degree Programs, Admissions Requirements, Student & Faculty Portal, Research Faculty, Laboratories, Appointments, Financial Services, International Locations & Offices, Financial Assistance Documents – Arizona, Financial Assistance Documents – Florida, Financial Assistance Documents – Minnesota, X, Youtube, Facebook, Linkedin, Instagram, , , Terms & Conditions, Privacy Policy, Notice of Privacy Practices, Notice of Nondiscrimination, Accessibility Statement, Advertising & Sponsorship Policy, Site Map, Manage Cookies, Terms and Conditions, Privacy Policy, Notice of Privacy Practices, Notice of Nondiscrimination, Accessibility Statement, Advertising and Sponsorship Policy, Site Map, Manage Cookies, English, Español, العربية, 简体中文, English, Español, العربية, 简体中文'}]"
      ]
     },
     "execution_count": 13,
     "metadata": {},
     "output_type": "execute_result"
    }
   ],
   "source": [
    "import json\n",
    "from bs4 import BeautifulSoup\n",
    "import requests\n",
    "\n",
    "html = requests.get(urls[1]['url']).text\n",
    "\n",
    "soup = BeautifulSoup(html, 'html.parser')\n",
    "\n",
    "data = []\n",
    "for h2 in soup.find_all(['h2', 'h3', 'h4']):\n",
    "    section = {}\n",
    "    section['h'] = h2.text.strip()\n",
    "    p = h2.find_next(['p', 'ul'])\n",
    "    section['p'] = ''\n",
    "    section['ul'] = ''\n",
    "    while p and p.name in ['p', 'ul']:\n",
    "        if p.name == 'p':\n",
    "            section['p'] += p.text.strip() + ' '\n",
    "        elif p.name == 'ul':\n",
    "            for li in p.find_all('li'):\n",
    "                section['ul'] += li.text.strip() + ', '\n",
    "        p = p.find_next(['p', 'ul'])\n",
    "    section['p'] = section['p'].strip()\n",
    "    section['ul'] = section['ul'].strip(', ').strip()\n",
    "\n",
    "    if \"medi\" in section['h'].lower() or \"medi\" in section['h'].lower() or \"treat\" in section['h'].lower() or \"prescr\" in section['h'].lower() or \"antibi\" in section['h'].lower() or \"diagnos\" in section['h'].lower():\n",
    "        data.append(section)\n",
    "\n",
    "data"
   ]
  },
  {
   "cell_type": "code",
   "execution_count": 16,
   "metadata": {},
   "outputs": [],
   "source": [
    "prompt = str(data) + '''Based on this data Construct the answer in this JSON format.\n",
    "                        {\"disease\":str, \"meds\":list(str), \"other_treatments\": list(str)}\n",
    "                        Question:\n",
    "                        what are the medications and treatments for [[[disease]]]?\n",
    "                        Answer:'''"
   ]
  },
  {
   "cell_type": "code",
   "execution_count": 1,
   "metadata": {},
   "outputs": [],
   "source": [
    "from utils import server\n",
    "bot = server()\n",
    "\n",
    "results = bot.generate_conclusion(disease=\"Typhoid\")"
   ]
  },
  {
   "cell_type": "code",
   "execution_count": null,
   "metadata": {},
   "outputs": [],
   "source": [
    "import asyncio\n",
    "import time\n",
    "from typing import List, Any\n",
    "from prompts import *\n",
    "import nest_asyncio\n",
    "from utils import LLM\n",
    "nest_asyncio.apply()\n",
    "\n",
    "class RateLimitedAPI:\n",
    "    def __init__(self):\n",
    "        self.rate_limit_delay = 3  # 1 second delay\n",
    "        self.semaphore = asyncio.Semaphore(1)  # Control concurrent requests\n",
    "        self.last_request_time = 0.0\n",
    "        self.llm_client = LLM()\n",
    "\n",
    "    async def ask_mistral_with_rate_limit(self, prompt: str) -> Any:\n",
    "        async with self.semaphore:\n",
    "            # Calculate time to wait based on last request\n",
    "            current_time = time.time()\n",
    "            time_since_last_request = current_time - self.last_request_time\n",
    "            if time_since_last_request < self.rate_limit_delay:\n",
    "                await asyncio.sleep(self.rate_limit_delay - time_since_last_request)\n",
    "            \n",
    "            # Make the API call\n",
    "            try:\n",
    "                result = await self.llm_client.ask_Mistral(\n",
    "                    question=prompt,\n",
    "                    model=\"open-mistral-nemo\",\n",
    "                    JSON=True\n",
    "                )\n",
    "                self.last_request_time = time.time()\n",
    "                return result\n",
    "            except Exception as e:\n",
    "                print(f\"Error processing prompt: {e}\")\n",
    "                return None\n",
    "\n",
    "    async def process_prompts(self, results: List[Any], disease: str) -> List[Any]:\n",
    "        prompts = [\n",
    "            str(i) + WEBPAGE_EXTRACTOR.replace(\"[[[disease]]]\", disease)\n",
    "            for i in results\n",
    "        ]\n",
    "        \n",
    "        # Create tasks for all prompts\n",
    "        tasks = [\n",
    "            self.ask_mistral_with_rate_limit(prompt)\n",
    "            for prompt in prompts\n",
    "        ]\n",
    "        \n",
    "        # Execute all tasks concurrently\n",
    "        results = await asyncio.gather(*tasks)\n",
    "        return results\n",
    "\n",
    "    def process_prompts_sync(self, results: List[Any], disease: str) -> List[Any]:\n",
    "        \"\"\"Synchronous wrapper for the async function\"\"\"\n",
    "        return asyncio.run(self.process_prompts(results, disease))\n",
    "\n",
    "# Usage example:\n",
    "\n",
    "api_client = RateLimitedAPI()\n",
    "results = api_client.process_prompts_sync(results, \"Typhoid\")"
   ]
  },
  {
   "cell_type": "code",
   "execution_count": null,
   "metadata": {},
   "outputs": [],
   "source": []
  }
 ],
 "metadata": {
  "kernelspec": {
   "display_name": "Python 3",
   "language": "python",
   "name": "python3"
  },
  "language_info": {
   "codemirror_mode": {
    "name": "ipython",
    "version": 3
   },
   "file_extension": ".py",
   "mimetype": "text/x-python",
   "name": "python",
   "nbconvert_exporter": "python",
   "pygments_lexer": "ipython3",
   "version": "3.12.1"
  }
 },
 "nbformat": 4,
 "nbformat_minor": 2
}
